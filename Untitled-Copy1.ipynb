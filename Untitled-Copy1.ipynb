{
 "cells": [
  {
   "cell_type": "code",
   "execution_count": 9,
   "metadata": {},
   "outputs": [],
   "source": [
    "%matplotlib inline\n",
    "from copy import deepcopy \n",
    "import numpy as np \n",
    "import pandas as pd\n",
    "from matplotlib import pyplot as plt\n",
    "import seaborn as sns; sns.set()\n",
    "import matplotlib.pyplot as plt\n",
    "import numpy as np\n",
    "from sklearn.cluster import KMeans\n",
    "from sklearn.mixture import GaussianMixture"
   ]
  },
  {
   "cell_type": "code",
   "execution_count": 2,
   "metadata": {},
   "outputs": [
    {
     "name": "stdout",
     "output_type": "stream",
     "text": [
      "(500, 2)\n"
     ]
    },
    {
     "data": {
      "text/html": [
       "<div>\n",
       "<style scoped>\n",
       "    .dataframe tbody tr th:only-of-type {\n",
       "        vertical-align: middle;\n",
       "    }\n",
       "\n",
       "    .dataframe tbody tr th {\n",
       "        vertical-align: top;\n",
       "    }\n",
       "\n",
       "    .dataframe thead th {\n",
       "        text-align: right;\n",
       "    }\n",
       "</style>\n",
       "<table border=\"1\" class=\"dataframe\">\n",
       "  <thead>\n",
       "    <tr style=\"text-align: right;\">\n",
       "      <th></th>\n",
       "      <th>Weight</th>\n",
       "      <th>Height</th>\n",
       "    </tr>\n",
       "  </thead>\n",
       "  <tbody>\n",
       "    <tr>\n",
       "      <td>0</td>\n",
       "      <td>67.06292</td>\n",
       "      <td>176.0864</td>\n",
       "    </tr>\n",
       "    <tr>\n",
       "      <td>1</td>\n",
       "      <td>68.80409</td>\n",
       "      <td>178.3887</td>\n",
       "    </tr>\n",
       "    <tr>\n",
       "      <td>2</td>\n",
       "      <td>60.93086</td>\n",
       "      <td>170.2845</td>\n",
       "    </tr>\n",
       "    <tr>\n",
       "      <td>3</td>\n",
       "      <td>59.73384</td>\n",
       "      <td>168.6920</td>\n",
       "    </tr>\n",
       "    <tr>\n",
       "      <td>4</td>\n",
       "      <td>65.43123</td>\n",
       "      <td>173.7637</td>\n",
       "    </tr>\n",
       "  </tbody>\n",
       "</table>\n",
       "</div>"
      ],
      "text/plain": [
       "     Weight    Height\n",
       "0  67.06292  176.0864\n",
       "1  68.80409  178.3887\n",
       "2  60.93086  170.2845\n",
       "3  59.73384  168.6920\n",
       "4  65.43123  173.7637"
      ]
     },
     "execution_count": 2,
     "metadata": {},
     "output_type": "execute_result"
    }
   ],
   "source": [
    "data = pd.read_csv('clustering.csv') \n",
    "print(data.shape)\n",
    "data.head()"
   ]
  },
  {
   "cell_type": "code",
   "execution_count": 4,
   "metadata": {},
   "outputs": [
    {
     "data": {
      "image/png": "[encoded data removed]",
      "text/plain": [
       "<Figure size 432x288 with 1 Axes>"
      ]
     },
     "metadata": {},
     "output_type": "display_data"
    }
   ],
   "source": [
    "ax = sns.scatterplot(x=\"Weight\", y=\"Height\", data=data)"
   ]
  },
  {
   "cell_type": "code",
   "execution_count": 21,
   "metadata": {},
   "outputs": [],
   "source": [
    "kmeans = KMeans(n_clusters=4)\n",
    "# Fitting with inputs\n",
    "kmeans = kmeans.fit(data)\n",
    "# Predicting the clusters\n",
    "labelsk = kmeans.predict(data)\n",
    "# Getting the cluster centers\n",
    "C = kmeans.cluster_centers_"
   ]
  },
  {
   "cell_type": "code",
   "execution_count": 22,
   "metadata": {},
   "outputs": [],
   "source": [
    "gmm = GaussianMixture(n_components=4)\n",
    "# Fitting with inputs\n",
    "gmm = gmm.fit(data)\n",
    "# Predicting the clusters\n",
    "labelsg = gmm.predict(data)\n"
   ]
  },
  {
   "cell_type": "code",
   "execution_count": null,
   "metadata": {},
   "outputs": [],
   "source": []
  },
  {
   "cell_type": "code",
   "execution_count": null,
   "metadata": {},
   "outputs": [],
   "source": []
  },
  {
   "cell_type": "code",
   "execution_count": 91,
   "metadata": {},
   "outputs": [],
   "source": [
    "clust_size=4\n",
    "per_for_deg=[1,.50,.25,.10]\n",
    "def dist_red(a,b,degv):\n",
    "    #reduce distance between points\n",
    "    global per_for_deg\n",
    "    deg=per_for_deg[degv]\n",
    "    per=1-deg\n",
    "    dif=b-a\n",
    "    a+=deg*per\n",
    "    return a\n",
    "\"\"\"\n",
    "cg  - GMM Cluster\n",
    "ck  - Kmeans Cluster\n",
    "kcv - Kmeans cluster label\n",
    "\n",
    "\"\"\"\n",
    "\n",
    "def ret_new_cord(cord,cent,deg):\n",
    "    \n",
    "    for i in range(len(cord)):\n",
    "        cord[i]=dist_red(cord[i],cent[i],deg)\n",
    "    return cord    \n",
    "\n",
    "def get_center_cord(points,cg,ck,kcv):\n",
    "    global clust_size\n",
    "    ################## selecting common cluster #######################\n",
    "    all_clust_pt=[]#all cluster lables\n",
    "    \n",
    "    res_labels=[0 for i in range(clust_size)]#respective GMM clusters\n",
    "    \n",
    "    for i in range(len(ck)):\n",
    "        if ck[i]==kcv:\n",
    "            all_clust_pt+=[i]\n",
    "            res_labels[cg[i]]+=1\n",
    "    \n",
    "    ################# finding all intersecting cluster ################\n",
    "    \n",
    "    mcom=0\n",
    "    maxx=res_labels[0]#maximum intersecting label\n",
    "    gclust=[0 for i in range(clust_size)]#all intersecting cluster of GMM with Kmeans \n",
    "    \n",
    "    for i in range(0,clust_size):    \n",
    "        if res_labels[i]>maxx:\n",
    "            maxx=res_labels[i]\n",
    "            mcom=i\n",
    "        if res_labels[i]!=0:\n",
    "            gclust[i]=1\n",
    "            \n",
    "   ############### finding intermidiate center ######################### \n",
    "\n",
    "    intr_center=[0 for i in range(len(points[0]))]\n",
    "    intr_count=0\n",
    "    \n",
    "    for i in all_clust_pt:\n",
    "        if cg[i]==mcom:\n",
    "            for j in range(len(points[0])):\n",
    "                intr_center[j]+=points[i][j]\n",
    "            intr_count+=1\n",
    "                \n",
    "    for j in range(len(points[0])):\n",
    "            intr_center[j]/=intr_count        \n",
    "            \n",
    "            \n",
    "    ############### finding the Center for the KMM#######################\n",
    "    \n",
    "    center=[0 for i in range(len(points[0]))]\n",
    "    count=0\n",
    "    \n",
    "    for i in range(len(ck)):\n",
    "        deg=-1\n",
    "        if ck[i]==kcv:\n",
    "            if cg[i]==mcom:\n",
    "                deg=0\n",
    "            else:\n",
    "                deg=1    \n",
    "        elif cg[i]==mcom:\n",
    "            deg=2\n",
    "        elif gclust[cg[i]]==1:    \n",
    "            deg=3\n",
    "        if deg!=-1:\n",
    "            pt=ret_new_cord(points[i],intr_center,deg)\n",
    "            count+=1\n",
    "            for j in range(len(points[0])):\n",
    "                center[j]+=pt[j]            \n",
    "    \n",
    "    for j in range(len(points[0])):\n",
    "            center[j]/=count     \n",
    "    return center\n",
    "    \n",
    "#         if ck[i]==kcv:\n",
    "#             if cg[i]==mcom:\n",
    "#                 for j in range(len(points[0])):\n",
    "#                     intr_center[j]+=points[i][j]\n",
    "#             else:\n",
    "#                 pt=ret_new_cord(points[i],intr_center,1)\n",
    "#                 for j in range(len(points[0])):\n",
    "#                     center[j]+=pt[j]        \n",
    "#             intr_count+=1\n",
    "            \n",
    "#         elif cg[i]==mcom:\n",
    "#             pt=ret_new_cord(points[i],intr_center,2)\n",
    "#             for j in range(len(points[0])):\n",
    "#                 center[j]+=pt[j]        \n",
    "#             intr_count+=1\n",
    "            \n",
    "#         elif cg[i]==mcom:\n",
    "#             pt=ret_new_cord(points[i],intr_center,2)\n",
    "#             for j in range(len(points[0])):\n",
    "#                 center[j]+=pt[j]        \n",
    "#             intr_count+=1    \n",
    "            \n",
    "            \n",
    "        \n",
    "def KNN_cluster(centers,points):\n",
    "    \n",
    "    labels=[0 for i in range(len(points))]\n",
    "    distance=[0 for i in range(len(centers))]\n",
    "    \n",
    "    for i in range(len(points)):\n",
    "        for j in range(len(centers)):\n",
    "            for k in range(len(points[0])):\n",
    "                distance[j]+=pow(points[i][k]-centers[j][k],2)\n",
    "        lab=0\n",
    "        minn=distance[0]\n",
    "        for j in range(len(centers)):\n",
    "            if(minn>distance[j]):\n",
    "                minn=distance[j]\n",
    "                lab=j\n",
    "        labels[i]=lab\n",
    "        \n",
    "    return labels    \n",
    "        \n",
    "        \n",
    "            \n",
    "        "
   ]
  },
  {
   "cell_type": "code",
   "execution_count": 111,
   "metadata": {},
   "outputs": [
    {
     "data": {
      "text/plain": [
       "[62.34453722891566, 170.02214939759028]"
      ]
     },
     "execution_count": 111,
     "metadata": {},
     "output_type": "execute_result"
    }
   ],
   "source": [
    "get_center_cord(points,labelsg,labelsk,3)\n"
   ]
  },
  {
   "cell_type": "code",
   "execution_count": 48,
   "metadata": {},
   "outputs": [
    {
     "data": {
      "text/plain": [
       "array([[6.75045447e+01, 1.75960775e+02, 1.77635684e-15],\n",
       "       [5.36002982e+01, 1.62764780e+02, 2.00000000e+00],\n",
       "       [6.06317640e+01, 1.69978575e+02, 2.96825397e+00],\n",
       "       [6.33325813e+01, 1.69300283e+02, 1.01626016e+00]])"
      ]
     },
     "execution_count": 48,
     "metadata": {},
     "output_type": "execute_result"
    }
   ],
   "source": [
    "C"
   ]
  },
  {
   "cell_type": "code",
   "execution_count": 101,
   "metadata": {},
   "outputs": [
    {
     "data": {
      "text/plain": [
       "(500,)"
      ]
     },
     "execution_count": 101,
     "metadata": {},
     "output_type": "execute_result"
    }
   ],
   "source": [
    "labelsg.shape"
   ]
  },
  {
   "cell_type": "code",
   "execution_count": 102,
   "metadata": {},
   "outputs": [],
   "source": [
    "points=data.drop('GMM8',axis=1).values"
   ]
  },
  {
   "cell_type": "code",
   "execution_count": 103,
   "metadata": {},
   "outputs": [
    {
     "data": {
      "text/plain": [
       "(500, 2)"
      ]
     },
     "execution_count": 103,
     "metadata": {},
     "output_type": "execute_result"
    }
   ],
   "source": [
    "points.shape"
   ]
  },
  {
   "cell_type": "code",
   "execution_count": null,
   "metadata": {},
   "outputs": [],
   "source": []
  }
 ],
 "metadata": {
  "kernelspec": {
   "display_name": "Python 3",
   "language": "python",
   "name": "python3"
  },
  "language_info": {
   "codemirror_mode": {
    "name": "ipython",
    "version": 3
   },
   "file_extension": ".py",
   "mimetype": "text/x-python",
   "name": "python",
   "nbconvert_exporter": "python",
   "pygments_lexer": "ipython3",
   "version": "3.7.4"
  }
 },
 "nbformat": 4,
 "nbformat_minor": 2
}
